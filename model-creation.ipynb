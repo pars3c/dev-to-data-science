{
 "cells": [
  {
   "cell_type": "markdown",
   "metadata": {},
   "source": [
    "Model Implementetion\n",
    "==="
   ]
  },
  {
   "cell_type": "markdown",
   "metadata": {},
   "source": [
    "No model is practical if it can't be used outside the training and test sets. This is when the\n",
    "model is deployed into production.\n",
    "\n",
    "In this stage, we normally load all the model's operation and trained weights, wait for new\n",
    "unknown data, and when it arrives, we feed it through all the chained functions of the\n",
    "model, informing the outcomes of the output layer or operation via a web service, printing\n",
    "to standard output, and so on."
   ]
  },
  {
   "cell_type": "markdown",
   "metadata": {},
   "source": [
    "Model Error Metrics\n",
    "---"
   ]
  },
  {
   "cell_type": "markdown",
   "metadata": {},
   "source": [
    "Mean Absolute Error\n",
    "---\n",
    "---\n",
    "\n",
    "##### Mean Absolute Error or MAE is used to obtain the absolute error lost.\n",
    "\n",
    "##### It is not recommended to be used in the case of big outliers\n",
    "\n",
    "\n",
    "##### The formula goes as:\n",
    "\n",
    "For each value (yi)\n",
    "\n",
    "Subtract yi(the actual value) by ŷi(the predicted value)\n",
    "\n",
    "Sum all the results\n",
    "\n",
    "Divide the sum of the results by the number of samples"
   ]
  },
  {
   "cell_type": "markdown",
   "metadata": {},
   "source": [
    "$$ MAE(y, ŷi) = \\frac{1}{n_{samples}} \\sum_{i=1}^{n} |y_i - ŷ_i| $$\n",
    "---"
   ]
  },
  {
   "cell_type": "markdown",
   "metadata": {},
   "source": [
    "### Diving in the code"
   ]
  },
  {
   "cell_type": "code",
   "execution_count": 23,
   "metadata": {},
   "outputs": [],
   "source": [
    "# sum_values, where every subtraction will be appended for later sum\n",
    "sum_values = []\n",
    "def mae(actual_values, predicted_values):\n",
    "    for actual_value, predicted_value in zip(actual_values, predicted_values):\n",
    "        # Appending the subtraction of the actual value by the predicted value\n",
    "        sum_values.append(actual_value - predicted_value)\n",
    "    \n",
    "    print(sum_values)\n",
    "    # Sum all the subtracted values\n",
    "    result = sum(sum_values)\n",
    "    # Divide the sum of the subtracted values by the number of samples\n",
    "    return result/len(actual_values)\n",
    "\n"
   ]
  },
  {
   "cell_type": "markdown",
   "metadata": {},
   "source": [
    "### Testing it"
   ]
  },
  {
   "cell_type": "code",
   "execution_count": 24,
   "metadata": {},
   "outputs": [
    {
     "name": "stdout",
     "output_type": "stream",
     "text": [
      "[0, 2, 3]\n",
      "1.6666666666666667\n"
     ]
    }
   ],
   "source": [
    "actual = [10, 4, 6]\n",
    "predicted = [10, 2, 3]\n",
    "\n",
    "print(mae(actual, predicted))"
   ]
  },
  {
   "cell_type": "markdown",
   "metadata": {},
   "source": [
    "Median Absolute Error\n",
    "---\n",
    "---"
   ]
  },
  {
   "cell_type": "markdown",
   "metadata": {},
   "source": [
    "##### The median absolute error is particularly interesting because it is robust to outliers. The loss  \n",
    "##### is calculated by taking the median of all absolute differences between the target and the  \n",
    "##### prediction.\n",
    "##### If ŷ is the predicted value of the ith sample and yi is the corresponding true value, then the  \n",
    "##### median absolute error estimated over n samples is defined as follows:"
   ]
  },
  {
   "cell_type": "markdown",
   "metadata": {},
   "source": [
    "$$ MedAE(y, ŷ) = median(|y_1 - ŷ_1|,...,|y_n - ŷ_n|) $$\n",
    "---"
   ]
  },
  {
   "cell_type": "markdown",
   "metadata": {},
   "source": [
    "### Diving in the code\n"
   ]
  },
  {
   "cell_type": "code",
   "execution_count": 25,
   "metadata": {},
   "outputs": [],
   "source": [
    "# median_values, where every subtraction will be appended for later median calculation\n",
    "median_values = []\n",
    "def median_error(actual_values, predicted_values):\n",
    "    for actual_value, predicted_value in zip(actual_values, predicted_values):\n",
    "        # Appending the subtraction of the actual value by the predicted value\n",
    "        median_values.append(actual_value - predicted_value)\n",
    "    \n",
    "    print(median_values)\n",
    "    # Find the median in the array median_values\n",
    "    result = np.median(median_values)\n",
    "    return result\n",
    "\n"
   ]
  },
  {
   "cell_type": "markdown",
   "metadata": {},
   "source": [
    "### Testing it"
   ]
  },
  {
   "cell_type": "code",
   "execution_count": 26,
   "metadata": {},
   "outputs": [
    {
     "name": "stdout",
     "output_type": "stream",
     "text": [
      "[0, 2, 3]\n",
      "2.0\n"
     ]
    }
   ],
   "source": [
    "print(median_error(actual, predicted))"
   ]
  },
  {
   "cell_type": "markdown",
   "metadata": {},
   "source": [
    "Mean squared error\n",
    "---\n",
    "---"
   ]
  },
  {
   "cell_type": "markdown",
   "metadata": {},
   "source": [
    "##### The mean squared error (MSE) is a risk metric equal to the expected value of the squared (quadratic) error loss.  \n",
    "##### If ŷi is the predicted value of the ith sample and yi is the corresponding true value, then the  \n",
    "##### MSE estimated over n samples is defined as follows:\n"
   ]
  },
  {
   "cell_type": "markdown",
   "metadata": {},
   "source": [
    "$$ MSE(y, ŷ) = \\frac{1}{n_{samples}} \\sum_{i=1}^{n} (y_i - ŷ_i)^2 $$\n",
    "---"
   ]
  },
  {
   "cell_type": "markdown",
   "metadata": {},
   "source": [
    "### Diving in the code"
   ]
  },
  {
   "cell_type": "code",
   "execution_count": 30,
   "metadata": {},
   "outputs": [],
   "source": [
    "sum_values = []\n",
    "def mse(actual_values, predicted_values):\n",
    "    for actual_value, predicted_value in zip(actual_values, predicted_values):\n",
    "        # Appending the subtraction of the actual value by the predicted value\n",
    "        sum_values.append((actual_value - predicted_value)**2)\n",
    "    \n",
    "    print(sum_values)\n",
    "    # Sum all the subtracted values\n",
    "    result = sum(sum_values)\n",
    "    # Divide the sum of the subtracted values by the number of samples\n",
    "    return result/len(actual_values)\n"
   ]
  },
  {
   "cell_type": "markdown",
   "metadata": {},
   "source": [
    "### Testing it"
   ]
  },
  {
   "cell_type": "code",
   "execution_count": 31,
   "metadata": {},
   "outputs": [
    {
     "name": "stdout",
     "output_type": "stream",
     "text": [
      "[0, 4, 9]\n",
      "4.333333333333333\n"
     ]
    }
   ],
   "source": [
    "print(mse(actual, predicted))"
   ]
  },
  {
   "cell_type": "markdown",
   "metadata": {},
   "source": [
    "Root mean squared error (RMSE)\n",
    "---\n",
    "---"
   ]
  },
  {
   "cell_type": "markdown",
   "metadata": {},
   "source": [
    "##### RMSE is a quadratic scoring rule that also measures the average magnitude of the error.  \n",
    "##### It’s the square root of the average of squared differences between prediction and actual observation."
   ]
  },
  {
   "cell_type": "markdown",
   "metadata": {},
   "source": [
    "$$ RMSE(y, ŷ) = \\sqrt {\\frac{1}{n_{samples}} \\sum_{i=1}^{n} (y_i - ŷ_i)^2} $$\n",
    "---"
   ]
  },
  {
   "cell_type": "markdown",
   "metadata": {},
   "source": [
    "### Diving in the code"
   ]
  },
  {
   "cell_type": "code",
   "execution_count": 41,
   "metadata": {},
   "outputs": [
    {
     "name": "stdout",
     "output_type": "stream",
     "text": [
      "[0, 4, 9]\n",
      "2.0816659994661326\n"
     ]
    }
   ],
   "source": [
    "sum_values = []\n",
    "\n",
    "def rmse(actual_values, predicted_values):\n",
    "    for actual_value, predicted_value in zip(actual_values, predicted_values):\n",
    "        # Appending the subtraction of the actual value by the predicted value\n",
    "        sum_values.append((actual_value - predicted_value)**2)\n",
    "    \n",
    "    print(sum_values)\n",
    "    # Sum all the subtracted values\n",
    "    result = sum(sum_values)\n",
    "    # Divide the sum of the subtracted values by the number of samples\n",
    "    result = result/len(actual_values)\n",
    "    result = np.sqrt(result)\n",
    "    return result\n",
    "\n",
    "print(rmse(actual, predicted))"
   ]
  },
  {
   "cell_type": "code",
   "execution_count": null,
   "metadata": {},
   "outputs": [],
   "source": []
  },
  {
   "cell_type": "markdown",
   "metadata": {},
   "source": [
    "Confusion Matrix\n",
    "---"
   ]
  },
  {
   "cell_type": "code",
   "execution_count": 7,
   "metadata": {},
   "outputs": [
    {
     "name": "stdout",
     "output_type": "stream",
     "text": [
      "[[0 0 0 1 0 0]\n",
      " [0 1 0 0 0 0]\n",
      " [0 0 1 0 0 1]\n",
      " [0 0 0 0 0 0]\n",
      " [0 0 0 0 2 0]\n",
      " [0 0 0 0 0 0]]\n"
     ]
    },
    {
     "data": {
      "image/png": "[encoded data removed]",
      "text/plain": [
       "<Figure size 432x288 with 1 Axes>"
      ]
     },
     "metadata": {},
     "output_type": "display_data"
    }
   ],
   "source": [
    "from sklearn.metrics import confusion_matrix\n",
    "import matplotlib.pyplot as plt\n",
    "import numpy as np\n",
    "y_true = [6,6,9,4,5,3]\n",
    "y_pred = [6,6,4,4,2,3]\n",
    "y = confusion_matrix(y_pred, y_true)\n",
    "print(y)\n",
    "plt.imshow(confusion_matrix(y_pred, y_true), interpolation='nearest',\n",
    "cmap='plasma')\n",
    "plt.xticks(np.arange(0,8), np.arange(1,9))\n",
    "plt.yticks(np.arange(0,8), np.arange(1,9))\n",
    "plt.show()"
   ]
  },
  {
   "cell_type": "code",
   "execution_count": null,
   "metadata": {},
   "outputs": [],
   "source": []
  }
 ],
 "metadata": {
  "kernelspec": {
   "display_name": "Python 3",
   "language": "python",
   "name": "python3"
  },
  "language_info": {
   "codemirror_mode": {
    "name": "ipython",
    "version": 3
   },
   "file_extension": ".py",
   "mimetype": "text/x-python",
   "name": "python",
   "nbconvert_exporter": "python",
   "pygments_lexer": "ipython3",
   "version": "3.7.0"
  }
 },
 "nbformat": 4,
 "nbformat_minor": 2
}
