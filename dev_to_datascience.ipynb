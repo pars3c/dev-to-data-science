{
 "cells": [
  {
   "cell_type": "markdown",
   "metadata": {},
   "source": [
    "<h1>Machine Learning</h1>"
   ]
  },
  {
   "cell_type": "markdown",
   "metadata": {},
   "source": [
    "<p> Let's start with the mean </p>"
   ]
  },
  {
   "cell_type": "markdown",
   "metadata": {},
   "source": [
    "<h1> Mean Formula <h3>$$ \\mu = \\frac{1}{n} \\sum_{i=0} x_i $$ </h3></h1>"
   ]
  },
  {
   "cell_type": "markdown",
   "metadata": {},
   "source": [
    "<p>Mean is the sum of all the elements divided by the number of elements in the set</p>"
   ]
  },
  {
   "cell_type": "code",
   "execution_count": 5,
   "metadata": {
    "collapsed": false
   },
   "outputs": [
    {
     "name": "stdout",
     "output_type": "stream",
     "text": [
      "[ 0.61773459]\n"
     ]
    }
   ],
   "source": [
    "import numpy as np\n",
    "# Create a one dimensional array of 10 random numbers\n",
    "x_array = np.random.rand(10,1)\n",
    "sum_x = 0\n",
    "# Sum each element in the array\n",
    "for x in x_array:\n",
    "    sum_x += x\n",
    "# Divide the sum of the elements in the array with the ammount/length of elements in the array\n",
    "mean = sum_x/len(x_array)    \n",
    "print(mean)"
   ]
  },
  {
   "cell_type": "code",
   "execution_count": null,
   "metadata": {
    "collapsed": true
   },
   "outputs": [],
   "source": []
  }
 ],
 "metadata": {
  "kernelspec": {
   "display_name": "Python 3",
   "language": "python",
   "name": "python3"
  },
  "language_info": {
   "codemirror_mode": {
    "name": "ipython",
    "version": 3
   },
   "file_extension": ".py",
   "mimetype": "text/x-python",
   "name": "python",
   "nbconvert_exporter": "python",
   "pygments_lexer": "ipython3",
   "version": "3.5.2"
  }
 },
 "nbformat": 4,
 "nbformat_minor": 2
}
