{
 "cells": [
  {
   "cell_type": "markdown",
   "metadata": {
    "deletable": true,
    "editable": true
   },
   "source": [
    "<h1>Machine Learning</h1>"
   ]
  },
  {
   "cell_type": "markdown",
   "metadata": {
    "deletable": true,
    "editable": true
   },
   "source": [
    "<p> Let's start with the mean </p>"
   ]
  },
  {
   "cell_type": "markdown",
   "metadata": {
    "deletable": true,
    "editable": true
   },
   "source": [
    "<h1> Mean Formula <h3>$$ \\mu = \\frac{1}{n} \\sum_{i=0} x_i $$ </h3></h1>"
   ]
  },
  {
   "cell_type": "markdown",
   "metadata": {
    "deletable": true,
    "editable": true
   },
   "source": [
    "<p>Mean is the sum of all the elements divided by the number of elements in the set</p>"
   ]
  },
  {
   "cell_type": "code",
   "execution_count": 1,
   "metadata": {
    "collapsed": false,
    "deletable": true,
    "editable": true
   },
   "outputs": [
    {
     "name": "stdout",
     "output_type": "stream",
     "text": [
      "[ 0.39558438]\n"
     ]
    }
   ],
   "source": [
    "import numpy as np\n",
    "# Create a one dimensional array of 10 random numbers\n",
    "x_array = np.random.rand(10,1)\n",
    "sum_x = 0\n",
    "# Sum each element in the array\n",
    "for x in x_array:\n",
    "    sum_x += x\n",
    "# Divide the sum of the elements in the array with the ammount/length of elements in the array\n",
    "mean = sum_x/len(x_array)    \n",
    "print(mean)"
   ]
  },
  {
   "cell_type": "code",
   "execution_count": 2,
   "metadata": {
    "collapsed": false,
    "deletable": true,
    "editable": true
   },
   "outputs": [
    {
     "data": {
      "text/plain": [
       "[<matplotlib.lines.Line2D at 0x2473899cda0>]"
      ]
     },
     "execution_count": 2,
     "metadata": {},
     "output_type": "execute_result"
    },
    {
     "data": {
      "image/png": "[encoded data removed]",
      "text/plain": [
       "<matplotlib.figure.Figure at 0x247390c9be0>"
      ]
     },
     "metadata": {},
     "output_type": "display_data"
    }
   ],
   "source": [
    "import matplotlib.pyplot as plt\n",
    "%matplotlib inline \n",
    "# Function created to get the mean value for custom datasets\n",
    "def mean(elements):\n",
    "    total = 0\n",
    "    for element in elements:\n",
    "        total += element\n",
    "    return total/len(elements)\n",
    "# Dataset created\n",
    "dataset = [2.,10.,3.,6.,4.,6.,10.]\n",
    "\n",
    "mu = mean(dataset)\n",
    "# Plot the dataset\n",
    "plt.plot(dataset)\n",
    "\n",
    "# Transform the mean into an array of 7 elements to fit with the length of the dataset\n",
    "plt.plot([mu] * 7)\n"
   ]
  },
  {
   "cell_type": "markdown",
   "metadata": {
    "deletable": true,
    "editable": true
   },
   "source": [
    "<h1>Variance</h1>"
   ]
  },
  {
   "cell_type": "markdown",
   "metadata": {
    "deletable": true,
    "editable": true
   },
   "source": [
    "<h3>Sometimes the mean just doesn't cut it, so we need other ways to describe what it might be non-homogeneous or very dispersed samples</h3>\n",
    "<p>To describe how dispersed the sample values are, we need to go into <b>variance</b></p>"
   ]
  },
  {
   "cell_type": "markdown",
   "metadata": {
    "deletable": true,
    "editable": true
   },
   "source": [
    "<h1> Variance Formula <h3>$$ \\sigma^2 = \\frac{1}{n} \\sum (x_i - \\mu)^2 $$ </h3></h1>\n",
    "\n",
    "<h1>Sample Variance Formula <h3>$$ S^2 = \\frac{1}{n-1} \\sum (x_i - \\mu)^2 $$ </h3></h1>"
   ]
  },
  {
   "cell_type": "markdown",
   "metadata": {
    "collapsed": true,
    "deletable": true,
    "editable": true
   },
   "source": [
    "In simple words, this formula will show you the average of how further the sample data is away from the mean, therefore showing how dispersed it is."
   ]
  },
  {
   "cell_type": "code",
   "execution_count": 3,
   "metadata": {
    "collapsed": false,
    "deletable": true,
    "editable": true
   },
   "outputs": [
    {
     "name": "stdout",
     "output_type": "stream",
     "text": [
      "8.693877551020408\n"
     ]
    }
   ],
   "source": [
    "# For the sake of simplicity I am gonna use the function above for the mean and the dataset list\n",
    "def variance(mu, elements):\n",
    "    total = 0\n",
    "    for element in elements:\n",
    "         total += (element - mu) ** 2\n",
    "    return total/len(elements)\n",
    "\n",
    "# Printing variance\n",
    "var = variance(mu, dataset)\n",
    "print(var)"
   ]
  },
  {
   "cell_type": "markdown",
   "metadata": {
    "deletable": true,
    "editable": true
   },
   "source": [
    "<p>If you wanna get simple numpy let's you do that with only one line of code.</p>"
   ]
  },
  {
   "cell_type": "code",
   "execution_count": 4,
   "metadata": {
    "collapsed": false,
    "deletable": true,
    "editable": true
   },
   "outputs": [
    {
     "name": "stdout",
     "output_type": "stream",
     "text": [
      "8.69387755102\n"
     ]
    }
   ],
   "source": [
    "print(np.var(dataset))"
   ]
  },
  {
   "cell_type": "markdown",
   "metadata": {
    "deletable": true,
    "editable": true
   },
   "source": [
    "<h1>OH YEAH!! This is just the start! With Python you are gonna see how everything is zen and simple, so don't worry to much, \n",
    "I will guide through this road :)</h1>"
   ]
  },
  {
   "cell_type": "markdown",
   "metadata": {
    "deletable": true,
    "editable": true
   },
   "source": [
    "<h1>Standart Deviation </h1>"
   ]
  },
  {
   "cell_type": "markdown",
   "metadata": {
    "deletable": true,
    "editable": true
   },
   "source": [
    "<h3> Standart Deviation is the squareroot of the variance</h3>\n",
    "<h2>In which case should you choose Standart Deviation over variance?</h2>\n",
    "<p>Standard Deviation is in the same units as the mean, so it can be used with the mean to set confidence intervals.</p>\n",
    "<p>Suppose you measured the height of 100 people and got a mean of 1.7 meters and a <b>standard deviation</b> of 0.2 meters. That gives you some idea of the distribution of heights. But if you were told the variance was 0.04 square meters, there’s not much you can do with that information (except take the square root to get the standard deviation).</p>\n",
    "<p>But now suppose you were told that sex explained 0.01 variance. Taking the square root to get 0.1 standard deviation doesn’t tell you anything. But taking 0.01 and dividing it by the 0.04 variance tells you sex explains 25% of the variance in height. </p>\n",
    "\n",
    "<p>The whole explanation <a href=\"https://www.quora.com/How-are-variance-and-standard-deviation-practically-used\">here</a></p>"
   ]
  },
  {
   "cell_type": "markdown",
   "metadata": {
    "deletable": true,
    "editable": true
   },
   "source": [
    "<h1> Standart Deviation Formula <h3>$$ \\sigma = \\sqrt{\\frac{1}{n} \\sum (x_i - \\mu)^2} $$ </h3></h1>\n",
    "\n",
    "<h1>Sample Standart Deviation Formula <h3>$$ S = \\sqrt{\\frac{1}{n-1} \\sum (x_i - \\mu)^2} $$ </h3></h1>"
   ]
  },
  {
   "cell_type": "code",
   "execution_count": 5,
   "metadata": {
    "collapsed": false,
    "deletable": true,
    "editable": true
   },
   "outputs": [
    {
     "name": "stdout",
     "output_type": "stream",
     "text": [
      "2.94853820579\n"
     ]
    }
   ],
   "source": [
    "# To make it even simpler, I am just adding the variance of the function above\n",
    "def standart_deviation(variance):\n",
    "    return np.sqrt(variance)\n",
    "\n",
    "standart_dev = standart_deviation(var)\n",
    "print(standart_dev)"
   ]
  },
  {
   "cell_type": "markdown",
   "metadata": {
    "deletable": true,
    "editable": true
   },
   "source": [
    "<p>Or to make it easy again</p>"
   ]
  },
  {
   "cell_type": "code",
   "execution_count": 6,
   "metadata": {
    "collapsed": false,
    "deletable": true,
    "editable": true
   },
   "outputs": [
    {
     "name": "stdout",
     "output_type": "stream",
     "text": [
      "2.94853820579\n"
     ]
    }
   ],
   "source": [
    "print(np.std(dataset))"
   ]
  },
  {
   "cell_type": "markdown",
   "metadata": {
    "deletable": true,
    "editable": true
   },
   "source": [
    "<h3>As you are probably noticing <b>numpy</b> is probably the best friend of every data scientist who uses Python.<br>\n",
    "This is due to it's inbuilt tools and its back-end working on C and Fortran combining the power of your cores to create good efficiency with parallel processing.</h3>"
   ]
  },
  {
   "cell_type": "markdown",
   "metadata": {
    "deletable": true,
    "editable": true
   },
   "source": [
    "<h1>Resumed talk about all the subjects previously spoken </h1>\n",
    "<h3>Tip: Whenever watching tutorial videos, use <a href=\"https://chrome.google.com/webstore/detail/youtube-playback-speed-co/hdannnflhlmdablckfkjpleikpphncik\">Playback Speed Control</a> to make your time more efficient</h3>"
   ]
  },
  {
   "cell_type": "code",
   "execution_count": 7,
   "metadata": {
    "collapsed": true,
    "deletable": true,
    "editable": true
   },
   "outputs": [],
   "source": [
    "from IPython.display import IFrame"
   ]
  },
  {
   "cell_type": "code",
   "execution_count": 8,
   "metadata": {
    "collapsed": false,
    "deletable": true,
    "editable": true
   },
   "outputs": [
    {
     "data": {
      "text/html": [
       "\n",
       "        <iframe\n",
       "            width=\"700\"\n",
       "            height=\"450\"\n",
       "            src=\"https://www.youtube.com/embed/E4HAYd0QnRc\"\n",
       "            frameborder=\"0\"\n",
       "            allowfullscreen\n",
       "        ></iframe>\n",
       "        "
      ],
      "text/plain": [
       "<IPython.lib.display.IFrame at 0x2473950a978>"
      ]
     },
     "execution_count": 8,
     "metadata": {},
     "output_type": "execute_result"
    }
   ],
   "source": [
    "IFrame('https://www.youtube.com/embed/E4HAYd0QnRc', width=700, height=450)"
   ]
  },
  {
   "cell_type": "markdown",
   "metadata": {
    "collapsed": true,
    "deletable": true,
    "editable": true
   },
   "source": [
    "<h1> Distributions </h1>"
   ]
  },
  {
   "cell_type": "markdown",
   "metadata": {
    "deletable": true,
    "editable": true
   },
   "source": [
    "<p>A distribution is another name for a set of numbers. The numbers can be based on data you gathered as a result of measuring people or things.  Distributions that have to do with probability.  A family of a particular type of probability distributions called the binomial distribution.</p>"
   ]
  },
  {
   "cell_type": "markdown",
   "metadata": {
    "deletable": true,
    "editable": true
   },
   "source": [
    "<h2> Probability Distributions </h2>"
   ]
  },
  {
   "cell_type": "markdown",
   "metadata": {
    "deletable": true,
    "editable": true
   },
   "source": [
    "<h3> Discrete Probability </h3>"
   ]
  },
  {
   "cell_type": "markdown",
   "metadata": {
    "deletable": true,
    "editable": true
   },
   "source": [
    "<p> First of all we gotta know, which type probability does data our data provide. </p>\n",
    "<p> If we are dealing with a coin toss, let's say:<br> Where X=1 is tails, where X=0 is heads </p>\n"
   ]
  },
  {
   "cell_type": "markdown",
   "metadata": {
    "deletable": true,
    "editable": true
   },
   "source": [
    "$$\n",
    "X=\n",
    "\\begin{cases}\n",
    "0, & \\text{for } tails\\\\\n",
    "1, & \\text{for } heads\n",
    "\\end{cases}\n",
    "$$"
   ]
  },
  {
   "cell_type": "markdown",
   "metadata": {
    "deletable": true,
    "editable": true
   },
   "source": [
    "<p>We are dealing with countable, quite distinct, listable probability.</p>\n",
    "<p>Therefore making it a <b>Discrete Probability</b></p>\n",
    "<p>In machine learning we could be saying, find if it is a cat or a dog and check the probability of each.(Or even many other animals, as long as it is listable and countable) sort of a classification problem</p>\n"
   ]
  },
  {
   "cell_type": "code",
   "execution_count": 9,
   "metadata": {
    "collapsed": false,
    "deletable": true,
    "editable": true,
    "scrolled": true
   },
   "outputs": [
    {
     "data": {
      "text/html": [
       "\n",
       "        <iframe\n",
       "            width=\"700\"\n",
       "            height=\"450\"\n",
       "            src=\"https://www.youtube.com/embed/mrCxwEZ_22o\"\n",
       "            frameborder=\"0\"\n",
       "            allowfullscreen\n",
       "        ></iframe>\n",
       "        "
      ],
      "text/plain": [
       "<IPython.lib.display.IFrame at 0x2473950a630>"
      ]
     },
     "execution_count": 9,
     "metadata": {},
     "output_type": "execute_result"
    }
   ],
   "source": [
    "IFrame('https://www.youtube.com/embed/mrCxwEZ_22o', width=700, height=450)"
   ]
  },
  {
   "cell_type": "markdown",
   "metadata": {
    "collapsed": true,
    "deletable": true,
    "editable": true
   },
   "source": [
    "<h3> Continuous Probability </h3>"
   ]
  },
  {
   "cell_type": "markdown",
   "metadata": {
    "collapsed": true,
    "deletable": true,
    "editable": true
   },
   "source": [
    "<p>If we are dealing with car values, there is no listed exact value for each.<br> It can range from a huge variety of values from extremely cheap to extremely expensive</p>\n",
    "<p>Let's say the price range of a Fiat(N) and say the price can go from 400 dollars to 14.000 dollars </p>"
   ]
  },
  {
   "cell_type": "markdown",
   "metadata": {
    "collapsed": true,
    "deletable": true,
    "editable": true
   },
   "source": [
    "$$ 400$ \\leq N \\leq 14.000$ $$"
   ]
  },
  {
   "cell_type": "markdown",
   "metadata": {
    "collapsed": true,
    "deletable": true,
    "editable": true
   },
   "source": [
    "<p>This is called continous probability</p>"
   ]
  },
  {
   "cell_type": "code",
   "execution_count": 14,
   "metadata": {
    "collapsed": false,
    "deletable": true,
    "editable": true
   },
   "outputs": [
    {
     "data": {
      "text/html": [
       "\n",
       "        <iframe\n",
       "            width=\"700\"\n",
       "            height=\"450\"\n",
       "            src=\"https://www.youtube.com/embed/dOr0NKyD31Q\"\n",
       "            frameborder=\"0\"\n",
       "            allowfullscreen\n",
       "        ></iframe>\n",
       "        "
      ],
      "text/plain": [
       "<IPython.lib.display.IFrame at 0x24739749cf8>"
      ]
     },
     "execution_count": 14,
     "metadata": {},
     "output_type": "execute_result"
    }
   ],
   "source": [
    "IFrame('https://www.youtube.com/embed/dOr0NKyD31Q', width=700, height=450)"
   ]
  },
  {
   "cell_type": "markdown",
   "metadata": {
    "deletable": true,
    "editable": true
   },
   "source": [
    "<h2>Binomial Distribution</h2>"
   ]
  },
  {
   "cell_type": "markdown",
   "metadata": {
    "deletable": true,
    "editable": true
   },
   "source": [
    "<p>Binomial distributions serve as a binary outcome like 'heads or tails'. <br> As it was spoke above this is used for <b>discrete probability</b></p>"
   ]
  },
  {
   "cell_type": "code",
   "execution_count": 10,
   "metadata": {
    "collapsed": false,
    "deletable": true,
    "editable": true
   },
   "outputs": [
    {
     "data": {
      "text/html": [
       "\n",
       "        <iframe\n",
       "            width=\"700\"\n",
       "            height=\"450\"\n",
       "            src=\"https://www.youtube.com/embed/WWv0RUxDfbs\"\n",
       "            frameborder=\"0\"\n",
       "            allowfullscreen\n",
       "        ></iframe>\n",
       "        "
      ],
      "text/plain": [
       "<IPython.lib.display.IFrame at 0x2473950aef0>"
      ]
     },
     "execution_count": 10,
     "metadata": {},
     "output_type": "execute_result"
    }
   ],
   "source": [
    "IFrame('https://www.youtube.com/embed/WWv0RUxDfbs', width=700, height=450)"
   ]
  },
  {
   "cell_type": "code",
   "execution_count": 11,
   "metadata": {
    "collapsed": false,
    "deletable": true,
    "editable": true
   },
   "outputs": [
    {
     "data": {
      "text/plain": [
       "(array([ 0.3965,  0.6035]),\n",
       " array([ 0.,  1.,  2.]),\n",
       " <a list of 2 Patch objects>)"
      ]
     },
     "execution_count": 11,
     "metadata": {},
     "output_type": "execute_result"
    },
    {
     "data": {
      "image/png": "[encoded data removed]",
      "text/plain": [
       "<matplotlib.figure.Figure at 0x24739502b70>"
      ]
     },
     "metadata": {},
     "output_type": "display_data"
    }
   ],
   "source": [
    "plt.figure()\n",
    "elements = np.random.binomial(1, .6, 20000)/0.5\n",
    "plt.hist(elements, 2, normed=1)"
   ]
  },
  {
   "cell_type": "markdown",
   "metadata": {
    "deletable": true,
    "editable": true
   },
   "source": [
    "<h2>Multinomial Distribution</h2>"
   ]
  },
  {
   "cell_type": "markdown",
   "metadata": {
    "deletable": true,
    "editable": true
   },
   "source": [
    "<p>This serves as a larger model, used when the number of possible outcomes is greater than 2(<b>continous probability</b>)</p>"
   ]
  },
  {
   "cell_type": "code",
   "execution_count": 15,
   "metadata": {
    "collapsed": false,
    "deletable": true,
    "editable": true
   },
   "outputs": [
    {
     "data": {
      "image/png": "[encoded data removed]",
      "text/plain": [
       "<matplotlib.figure.Figure at 0x24739745a20>"
      ]
     },
     "metadata": {},
     "output_type": "display_data"
    }
   ],
   "source": [
    "plt.figure()\n",
    "elements = np.random.binomial(100, .6, 10000)/0.01\n",
    "plt.hist(elements, 100, normed=5)\n",
    "plt.show()"
   ]
  },
  {
   "cell_type": "markdown",
   "metadata": {
    "collapsed": true,
    "deletable": true,
    "editable": true
   },
   "source": [
    "<h1> Uniform Distributions </h1>"
   ]
  },
  {
   "cell_type": "markdown",
   "metadata": {
    "deletable": true,
    "editable": true
   },
   "source": [
    "<p>Uniform distributions also known as Rectangle Distributions</p>"
   ]
  },
  {
   "cell_type": "code",
   "execution_count": 21,
   "metadata": {
    "collapsed": false,
    "deletable": true,
    "editable": true
   },
   "outputs": [
    {
     "data": {
      "image/png": "[encoded data removed]",
      "text/plain": [
       "<matplotlib.figure.Figure at 0x2473990b080>"
      ]
     },
     "metadata": {},
     "output_type": "display_data"
    }
   ],
   "source": [
    "data = np.random.uniform(0,1,1000) # You are generating 1000 points between 0 and 1.\n",
    "count, bins, ignored = plt.hist(data, 40, facecolor='blue') \n",
    "\n",
    "plt.xlabel('X~U[0,1]')\n",
    "plt.ylabel('Count')\n",
    "plt.title(\"Uniform Distribution Histogram (Bin size 20)\")\n",
    "\n",
    "\n",
    "\n",
    "plt.show(block = False)"
   ]
  },
  {
   "cell_type": "code",
   "execution_count": null,
   "metadata": {
    "collapsed": true
   },
   "outputs": [],
   "source": []
  }
 ],
 "metadata": {
  "kernelspec": {
   "display_name": "Python 3",
   "language": "python",
   "name": "python3"
  },
  "language_info": {
   "codemirror_mode": {
    "name": "ipython",
    "version": 3
   },
   "file_extension": ".py",
   "mimetype": "text/x-python",
   "name": "python",
   "nbconvert_exporter": "python",
   "pygments_lexer": "ipython3",
   "version": "3.5.2"
  }
 },
 "nbformat": 4,
 "nbformat_minor": 2
}
