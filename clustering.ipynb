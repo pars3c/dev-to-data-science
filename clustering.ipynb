{
 "cells": [
  {
   "cell_type": "markdown",
   "metadata": {},
   "source": [
    "Clustering\n",
    "==="
   ]
  },
  {
   "cell_type": "markdown",
   "metadata": {},
   "source": [
    "Homogeneity\n",
    "---\n",
    "---"
   ]
  },
  {
   "cell_type": "markdown",
   "metadata": {},
   "source": [
    "Homogeneity is a measure of the ratio of samples of a single class pertaining to a single  \n",
    "cluster. The fewer different classes included in one cluster, the better. The lower bound  \n",
    "should be 0.0 and the upper bound should be 1.0 (higher is better), and the formulation for  \n",
    "it is expressed as follows:"
   ]
  },
  {
   "cell_type": "code",
   "execution_count": null,
   "metadata": {},
   "outputs": [],
   "source": []
  },
  {
   "cell_type": "markdown",
   "metadata": {},
   "source": [
    "Completeness\n",
    "---\n",
    "---"
   ]
  },
  {
   "cell_type": "code",
   "execution_count": null,
   "metadata": {},
   "outputs": [],
   "source": []
  },
  {
   "cell_type": "code",
   "execution_count": null,
   "metadata": {},
   "outputs": [],
   "source": []
  },
  {
   "cell_type": "code",
   "execution_count": null,
   "metadata": {},
   "outputs": [],
   "source": []
  },
  {
   "cell_type": "markdown",
   "metadata": {},
   "source": [
    "V-measure\n",
    "---\n",
    "---"
   ]
  },
  {
   "cell_type": "code",
   "execution_count": null,
   "metadata": {},
   "outputs": [],
   "source": []
  },
  {
   "cell_type": "code",
   "execution_count": null,
   "metadata": {},
   "outputs": [],
   "source": []
  },
  {
   "cell_type": "code",
   "execution_count": 46,
   "metadata": {},
   "outputs": [],
   "source": [
    "import numpy as np\n",
    "import matplotlib.pyplot as plt\n",
    "from matplotlib import style\n",
    "import pandas as pd \n",
    "\n",
    "style.use('ggplot')\n",
    "\n",
    "class K_Means:\n",
    "    def __init__(self, k =3, tolerance = 0.0001, max_iterations = 500):\n",
    "        \n",
    "        # We start with 3 clusters\n",
    "        self.k = k\n",
    "        \n",
    "        # The tolerance is set to '0.0001', this means that, if the difference between the new and the old centroids is less than '0.0001', it will stop iterating\n",
    "        self.tolerance = tolerance\n",
    "        \n",
    "        # It will iterate 500 times, if the tolerance doesn't get lower than '0.0001'\n",
    "        self.max_iterations = max_iterations\n",
    "\n",
    "    def fit(self, data):\n",
    "\n",
    "        self.centroids = {}\n",
    "\n",
    "        #initialize the centroids, the first 'k' elements in the dataset will be our initial centroids\n",
    "        for i in range(self.k):\n",
    "            self.centroids[i] = data[i]\n",
    "            \n",
    "        #begin iterations\n",
    "        for i in range(self.max_iterations):\n",
    "            self.classes = {}\n",
    "            for i in range(self.k):\n",
    "                self.classes[i] = []\n",
    " \n",
    "            #find the distance between the point and cluster; choose the nearest centroid\n",
    "            for features in data:\n",
    "                distances = [np.linalg.norm(features - self.centroids[centroid]) for centroid in self.centroids]\n",
    "                print(features)\n",
    "                print(self.centroids[centroid])\n",
    "                classification = distances.index(min(distances))\n",
    "                self.classes[classification].append(features)\n",
    "\n",
    "            previous = dict(self.centroids)\n",
    "\n",
    "            #average the cluster datapoints to re-calculate the centroids\n",
    "            for classification in self.classes:\n",
    "                self.centroids[classification] = np.average(self.classes[classification], axis = 0)\n",
    "\n",
    "            isOptimal = True\n",
    "\n",
    "            for centroid in self.centroids:\n",
    "\n",
    "                original_centroid = previous[centroid]\n",
    "                curr = self.centroids[centroid]\n",
    "\n",
    "                if np.sum((curr - original_centroid)/original_centroid * 100.0) > self.tolerance:\n",
    "                    isOptimal = False\n",
    "\n",
    "            #break out of the main loop if the results are optimal, ie. the centroids don't change their positions much(more than our tolerance)\n",
    "            if isOptimal:\n",
    "                break\n",
    "\n",
    "    def pred(self, data):\n",
    "        distances = [np.linalg.norm(data - self.centroids[centroid]) for centroid in self.centroids]\n",
    "        classification = distances.index(min(distances))\n",
    "        return classification"
   ]
  },
  {
   "cell_type": "code",
   "execution_count": 47,
   "metadata": {},
   "outputs": [],
   "source": [
    "def main():\n",
    "\n",
    "    df = pd.read_csv(\"datasets/ipl.csv\")\n",
    "    df = df[['one', 'two']]\n",
    "    dataset = df.astype(float).values.tolist()\n",
    "\n",
    "    X = df.values #returns a numpy array\n",
    "    km = K_Means(3)\n",
    "    km.fit(X)\n",
    "\n",
    "    # Plotting starts here\n",
    "    colors = 10*[\"r\", \"g\", \"c\", \"b\", \"k\"]\n",
    "\n",
    "    for centroid in km.centroids:\n",
    "        plt.scatter(km.centroids[centroid][0], km.centroids[centroid][1], s = 130, marker = \"x\")\n",
    "\n",
    "    for classification in km.classes:\n",
    "        color = colors[classification]\n",
    "        for features in km.classes[classification]:\n",
    "            plt.scatter(features[0], features[1], color = color,s = 30)\n",
    "            \n",
    "    plt.show()"
   ]
  },
  {
   "cell_type": "code",
   "execution_count": 48,
   "metadata": {},
   "outputs": [
    {
     "name": "stdout",
     "output_type": "stream",
     "text": [
      "[0.22767982 0.85820415]\n"
     ]
    },
    {
     "ename": "UnboundLocalError",
     "evalue": "local variable 'centroid' referenced before assignment",
     "output_type": "error",
     "traceback": [
      "\u001b[1;31m---------------------------------------------------------------------------\u001b[0m",
      "\u001b[1;31mUnboundLocalError\u001b[0m                         Traceback (most recent call last)",
      "\u001b[1;32m<ipython-input-48-263240bbee7e>\u001b[0m in \u001b[0;36m<module>\u001b[1;34m()\u001b[0m\n\u001b[1;32m----> 1\u001b[1;33m \u001b[0mmain\u001b[0m\u001b[1;33m(\u001b[0m\u001b[1;33m)\u001b[0m\u001b[1;33m\u001b[0m\u001b[0m\n\u001b[0m",
      "\u001b[1;32m<ipython-input-47-2579a25f19ab>\u001b[0m in \u001b[0;36mmain\u001b[1;34m()\u001b[0m\n\u001b[0;32m      7\u001b[0m     \u001b[0mX\u001b[0m \u001b[1;33m=\u001b[0m \u001b[0mdf\u001b[0m\u001b[1;33m.\u001b[0m\u001b[0mvalues\u001b[0m \u001b[1;31m#returns a numpy array\u001b[0m\u001b[1;33m\u001b[0m\u001b[0m\n\u001b[0;32m      8\u001b[0m     \u001b[0mkm\u001b[0m \u001b[1;33m=\u001b[0m \u001b[0mK_Means\u001b[0m\u001b[1;33m(\u001b[0m\u001b[1;36m3\u001b[0m\u001b[1;33m)\u001b[0m\u001b[1;33m\u001b[0m\u001b[0m\n\u001b[1;32m----> 9\u001b[1;33m     \u001b[0mkm\u001b[0m\u001b[1;33m.\u001b[0m\u001b[0mfit\u001b[0m\u001b[1;33m(\u001b[0m\u001b[0mX\u001b[0m\u001b[1;33m)\u001b[0m\u001b[1;33m\u001b[0m\u001b[0m\n\u001b[0m\u001b[0;32m     10\u001b[0m \u001b[1;33m\u001b[0m\u001b[0m\n\u001b[0;32m     11\u001b[0m     \u001b[1;31m# Plotting starts here\u001b[0m\u001b[1;33m\u001b[0m\u001b[1;33m\u001b[0m\u001b[0m\n",
      "\u001b[1;32m<ipython-input-46-4c3791b831df>\u001b[0m in \u001b[0;36mfit\u001b[1;34m(self, data)\u001b[0m\n\u001b[0;32m     36\u001b[0m                 \u001b[0mdistances\u001b[0m \u001b[1;33m=\u001b[0m \u001b[1;33m[\u001b[0m\u001b[0mnp\u001b[0m\u001b[1;33m.\u001b[0m\u001b[0mlinalg\u001b[0m\u001b[1;33m.\u001b[0m\u001b[0mnorm\u001b[0m\u001b[1;33m(\u001b[0m\u001b[0mfeatures\u001b[0m \u001b[1;33m-\u001b[0m \u001b[0mself\u001b[0m\u001b[1;33m.\u001b[0m\u001b[0mcentroids\u001b[0m\u001b[1;33m[\u001b[0m\u001b[0mcentroid\u001b[0m\u001b[1;33m]\u001b[0m\u001b[1;33m)\u001b[0m \u001b[1;32mfor\u001b[0m \u001b[0mcentroid\u001b[0m \u001b[1;32min\u001b[0m \u001b[0mself\u001b[0m\u001b[1;33m.\u001b[0m\u001b[0mcentroids\u001b[0m\u001b[1;33m]\u001b[0m\u001b[1;33m\u001b[0m\u001b[0m\n\u001b[0;32m     37\u001b[0m                 \u001b[0mprint\u001b[0m\u001b[1;33m(\u001b[0m\u001b[0mfeatures\u001b[0m\u001b[1;33m)\u001b[0m\u001b[1;33m\u001b[0m\u001b[0m\n\u001b[1;32m---> 38\u001b[1;33m                 \u001b[0mprint\u001b[0m\u001b[1;33m(\u001b[0m\u001b[0mself\u001b[0m\u001b[1;33m.\u001b[0m\u001b[0mcentroids\u001b[0m\u001b[1;33m[\u001b[0m\u001b[0mcentroid\u001b[0m\u001b[1;33m]\u001b[0m\u001b[1;33m)\u001b[0m\u001b[1;33m\u001b[0m\u001b[0m\n\u001b[0m\u001b[0;32m     39\u001b[0m                 \u001b[0mclassification\u001b[0m \u001b[1;33m=\u001b[0m \u001b[0mdistances\u001b[0m\u001b[1;33m.\u001b[0m\u001b[0mindex\u001b[0m\u001b[1;33m(\u001b[0m\u001b[0mmin\u001b[0m\u001b[1;33m(\u001b[0m\u001b[0mdistances\u001b[0m\u001b[1;33m)\u001b[0m\u001b[1;33m)\u001b[0m\u001b[1;33m\u001b[0m\u001b[0m\n\u001b[0;32m     40\u001b[0m                 \u001b[0mself\u001b[0m\u001b[1;33m.\u001b[0m\u001b[0mclasses\u001b[0m\u001b[1;33m[\u001b[0m\u001b[0mclassification\u001b[0m\u001b[1;33m]\u001b[0m\u001b[1;33m.\u001b[0m\u001b[0mappend\u001b[0m\u001b[1;33m(\u001b[0m\u001b[0mfeatures\u001b[0m\u001b[1;33m)\u001b[0m\u001b[1;33m\u001b[0m\u001b[0m\n",
      "\u001b[1;31mUnboundLocalError\u001b[0m: local variable 'centroid' referenced before assignment"
     ]
    }
   ],
   "source": [
    "main()"
   ]
  },
  {
   "cell_type": "code",
   "execution_count": 50,
   "metadata": {},
   "outputs": [
    {
     "name": "stdout",
     "output_type": "stream",
     "text": [
      "Result of k-Means Clustering: \n",
      "\n",
      "data point: [15. 16.]\n",
      "cluster number: 0 \n",
      "\n",
      "data point: [16.  18.5]\n",
      "cluster number: 0 \n",
      "\n",
      "data point: [17.  20.2]\n",
      "cluster number: 0 \n",
      "\n",
      "data point: [16.4  17.12]\n",
      "cluster number: 0 \n",
      "\n",
      "data point: [17.23 18.12]\n",
      "cluster number: 0 \n",
      "\n",
      "data point: [43. 43.]\n",
      "cluster number: 1 \n",
      "\n",
      "data point: [44.43  45.212]\n",
      "cluster number: 1 \n",
      "\n",
      "data point: [45.8  54.23]\n",
      "cluster number: 1 \n",
      "\n",
      "data point: [46.313 43.123]\n",
      "cluster number: 1 \n",
      "\n",
      "data point: [50.21 46.3 ]\n",
      "cluster number: 1 \n",
      "\n",
      "data point: [99.   99.22]\n",
      "cluster number: 2 \n",
      "\n",
      "data point: [100.32   98.123]\n",
      "cluster number: 2 \n",
      "\n",
      "data point: [100.32   97.423]\n",
      "cluster number: 2 \n",
      "\n",
      "data point: [102.    93.23]\n",
      "cluster number: 2 \n",
      "\n",
      "data point: [102.23  94.23]\n",
      "cluster number: 2 \n",
      "\n",
      "Last centroids position: \n",
      " [[ 16.83483871  18.08645161]\n",
      " [ 48.02980645  46.32670968]\n",
      " [101.69677419  94.79606452]]\n",
      "\n"
     ]
    }
   ],
   "source": [
    "import numpy as np\n",
    "import os\n",
    "\n",
    "def compute_euclidean_distance(point, centroid):\n",
    "    return np.sqrt(np.sum((point - centroid)**2))\n",
    "\n",
    "def assign_label_cluster(distance, data_point, centroids):\n",
    "    index_of_minimum = min(distance, key=distance.get)\n",
    "    return [index_of_minimum, data_point, centroids[index_of_minimum]]\n",
    "\n",
    "def compute_new_centroids(cluster_label, centroids):\n",
    "    return np.array(cluster_label + centroids)/2\n",
    "\n",
    "def iterate_k_means(data_points, centroids, total_iteration):\n",
    "    label = []\n",
    "    cluster_label = []\n",
    "    total_points = len(data_points)\n",
    "    k = len(centroids)\n",
    "    \n",
    "    for iteration in range(0, total_iteration):\n",
    "        for index_point in range(0, total_points):\n",
    "            distance = {}\n",
    "            for index_centroid in range(0, k):\n",
    "                distance[index_centroid] = compute_euclidean_distance(data_points[index_point], centroids[index_centroid])\n",
    "            label = assign_label_cluster(distance, data_points[index_point], centroids)\n",
    "            centroids[label[0]] = compute_new_centroids(label[1], centroids[label[0]])\n",
    "\n",
    "            if iteration == (total_iteration - 1):\n",
    "                cluster_label.append(label)\n",
    "\n",
    "    return [cluster_label, centroids]\n",
    "\n",
    "def print_label_data(result):\n",
    "    print(\"Result of k-Means Clustering: \\n\")\n",
    "    for data in result[0]:\n",
    "        print(\"data point: {}\".format(data[1]))\n",
    "        print(\"cluster number: {} \\n\".format(data[0]))\n",
    "    print(\"Last centroids position: \\n {}\".format(result[1]))\n",
    "\n",
    "def create_centroids():\n",
    "    centroids = []\n",
    "    centroids.append([5.0, 0.0])\n",
    "    centroids.append([45.0, 70.0])\n",
    "    centroids.append([50.0, 90.0])\n",
    "    return np.array(centroids)\n",
    "\n",
    "if __name__ == \"__main__\":\n",
    "    filename = 'https://raw.githubusercontent.com/corvasto/Simple-k-Means-Clustering-Python/master/data.csv'\n",
    "    data_points = np.genfromtxt(filename, delimiter=\",\")\n",
    "    centroids = create_centroids()\n",
    "    total_iteration = 100\n",
    "    \n",
    "    [cluster_label, new_centroids] = iterate_k_means(data_points, centroids, total_iteration)\n",
    "    print_label_data([cluster_label, new_centroids])\n",
    "    print()"
   ]
  },
  {
   "cell_type": "code",
   "execution_count": null,
   "metadata": {},
   "outputs": [],
   "source": []
  }
 ],
 "metadata": {
  "kernelspec": {
   "display_name": "Python 3",
   "language": "python",
   "name": "python3"
  },
  "language_info": {
   "codemirror_mode": {
    "name": "ipython",
    "version": 3
   },
   "file_extension": ".py",
   "mimetype": "text/x-python",
   "name": "python",
   "nbconvert_exporter": "python",
   "pygments_lexer": "ipython3",
   "version": "3.7.0"
  }
 },
 "nbformat": 4,
 "nbformat_minor": 2
}
