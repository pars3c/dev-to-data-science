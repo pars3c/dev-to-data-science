{
 "cells": [
  {
   "cell_type": "markdown",
   "metadata": {
    "deletable": true,
    "editable": true
   },
   "source": [
    "<h1>Machine Learning</h1>"
   ]
  },
  {
   "cell_type": "markdown",
   "metadata": {
    "deletable": true,
    "editable": true
   },
   "source": [
    "<p> Let's start with the mean </p>"
   ]
  },
  {
   "cell_type": "markdown",
   "metadata": {
    "deletable": true,
    "editable": true
   },
   "source": [
    "<h1> Mean Formula <h3>$$ \\mu = \\frac{1}{n} \\sum_{i=0} x_i $$ </h3></h1>"
   ]
  },
  {
   "cell_type": "markdown",
   "metadata": {
    "deletable": true,
    "editable": true
   },
   "source": [
    "<p>Mean is the sum of all the elements divided by the number of elements in the set</p>"
   ]
  },
  {
   "cell_type": "code",
   "execution_count": 1,
   "metadata": {
    "collapsed": false,
    "deletable": true,
    "editable": true
   },
   "outputs": [
    {
     "name": "stdout",
     "output_type": "stream",
     "text": [
      "[ 0.48648776]\n"
     ]
    }
   ],
   "source": [
    "import numpy as np\n",
    "# Create a one dimensional array of 10 random numbers\n",
    "x_array = np.random.rand(10,1)\n",
    "sum_x = 0\n",
    "# Sum each element in the array\n",
    "for x in x_array:\n",
    "    sum_x += x\n",
    "# Divide the sum of the elements in the array with the ammount/length of elements in the array\n",
    "mean = sum_x/len(x_array)    \n",
    "print(mean)"
   ]
  },
  {
   "cell_type": "code",
   "execution_count": 2,
   "metadata": {
    "collapsed": false,
    "deletable": true,
    "editable": true
   },
   "outputs": [
    {
     "data": {
      "text/plain": [
       "[<matplotlib.lines.Line2D at 0x1c72576dc88>]"
      ]
     },
     "execution_count": 2,
     "metadata": {},
     "output_type": "execute_result"
    },
    {
     "data": {
      "image/png": "[encoded data removed]",
      "text/plain": [
       "<matplotlib.figure.Figure at 0x1c725a38f60>"
      ]
     },
     "metadata": {},
     "output_type": "display_data"
    }
   ],
   "source": [
    "import matplotlib.pyplot as plt\n",
    "%matplotlib inline \n",
    "# Function created to get the mean value for custom datasets\n",
    "def mean(elements):\n",
    "    total = 0\n",
    "    for element in elements:\n",
    "        total += element\n",
    "    return total/len(elements)\n",
    "# Dataset created\n",
    "dataset = [2.,10.,3.,6.,4.,6.,10.]\n",
    "\n",
    "mu = mean(dataset)\n",
    "# Plot the dataset\n",
    "plt.plot(dataset)\n",
    "\n",
    "# Transform the mean into an array of 7 elements to fit with the length of the dataset\n",
    "plt.plot([mu] * 7)\n"
   ]
  },
  {
   "cell_type": "markdown",
   "metadata": {
    "deletable": true,
    "editable": true
   },
   "source": [
    "<h1>Variance</h1>"
   ]
  },
  {
   "cell_type": "markdown",
   "metadata": {
    "deletable": true,
    "editable": true
   },
   "source": [
    "<h3>Sometimes the mean just doesn't cut it, so we need other ways to describe what it might be non-homogeneous or very dispersed samples</h3>\n",
    "<p>To describe how dispersed the sample values are, we need to go into <b>variance</b></p>"
   ]
  },
  {
   "cell_type": "markdown",
   "metadata": {
    "deletable": true,
    "editable": true
   },
   "source": [
    "<h1> Variance Formula <h3>$$ \\sigma^2 = \\frac{1}{n} \\sum (x_i - \\mu)^2 $$ </h3></h1>\n",
    "\n",
    "<h1>Sample Variance Formula <h3>$$ S^2 = \\frac{1}{n-1} \\sum (x_i - \\mu)^2 $$ </h3></h1>"
   ]
  },
  {
   "cell_type": "markdown",
   "metadata": {
    "collapsed": true,
    "deletable": true,
    "editable": true
   },
   "source": [
    "In simple words, this formula will show you the average of how further the sample data is away from the mean, therefore showing how dispersed it is."
   ]
  },
  {
   "cell_type": "code",
   "execution_count": 3,
   "metadata": {
    "collapsed": false,
    "deletable": true,
    "editable": true
   },
   "outputs": [
    {
     "name": "stdout",
     "output_type": "stream",
     "text": [
      "8.693877551020408\n"
     ]
    }
   ],
   "source": [
    "# For the sake of simplicity I am gonna use the function above for the mean and the dataset list\n",
    "def variance(mu, elements):\n",
    "    total = 0\n",
    "    for element in elements:\n",
    "         total += (element - mu) ** 2\n",
    "    return total/len(elements)\n",
    "\n",
    "# Printing variance\n",
    "var = variance(mu, dataset)\n",
    "print(var)"
   ]
  },
  {
   "cell_type": "markdown",
   "metadata": {
    "deletable": true,
    "editable": true
   },
   "source": [
    "<p>If you wanna get simple numpy let's you do that with only one line of code.</p>"
   ]
  },
  {
   "cell_type": "code",
   "execution_count": 4,
   "metadata": {
    "collapsed": false,
    "deletable": true,
    "editable": true
   },
   "outputs": [
    {
     "name": "stdout",
     "output_type": "stream",
     "text": [
      "8.69387755102\n"
     ]
    }
   ],
   "source": [
    "print(np.var(dataset))"
   ]
  },
  {
   "cell_type": "markdown",
   "metadata": {
    "deletable": true,
    "editable": true
   },
   "source": [
    "<h1>OH YEAH!! This is just the start! With Python you are gonna see how everything is zen and simple, so don't worry to much, \n",
    "I will guide through this road :)</h1>"
   ]
  },
  {
   "cell_type": "markdown",
   "metadata": {
    "deletable": true,
    "editable": true
   },
   "source": [
    "<h1>Standart Deviation </h1>"
   ]
  },
  {
   "cell_type": "markdown",
   "metadata": {
    "deletable": true,
    "editable": true
   },
   "source": [
    "<h3> Standart Deviation is the squareroot of the variance</h3>\n",
    "<h2>In which case should you choose Standart Deviation over variance?</h2>\n",
    "<p>Standard Deviation is in the same units as the mean, so it can be used with the mean to set confidence intervals.</p>\n",
    "<p>Suppose you measured the height of 100 people and got a mean of 1.7 meters and a <b>standard deviation</b> of 0.2 meters. That gives you some idea of the distribution of heights. But if you were told the variance was 0.04 square meters, there’s not much you can do with that information (except take the square root to get the standard deviation).</p>\n",
    "<p>But now suppose you were told that sex explained 0.01 variance. Taking the square root to get 0.1 standard deviation doesn’t tell you anything. But taking 0.01 and dividing it by the 0.04 variance tells you sex explains 25% of the variance in height. </p>\n",
    "\n",
    "<p>The whole explanation <a href=\"https://www.quora.com/How-are-variance-and-standard-deviation-practically-used\">here</a></p>"
   ]
  },
  {
   "cell_type": "markdown",
   "metadata": {
    "deletable": true,
    "editable": true
   },
   "source": [
    "<h1> Standart Deviation Formula <h3>$$ \\sigma = \\sqrt{\\frac{1}{n} \\sum (x_i - \\mu)^2} $$ </h3></h1>\n",
    "\n",
    "<h1>Sample Standart Deviation Formula <h3>$$ S = \\sqrt{\\frac{1}{n-1} \\sum (x_i - \\mu)^2} $$ </h3></h1>"
   ]
  },
  {
   "cell_type": "code",
   "execution_count": 5,
   "metadata": {
    "collapsed": false,
    "deletable": true,
    "editable": true
   },
   "outputs": [
    {
     "name": "stdout",
     "output_type": "stream",
     "text": [
      "2.94853820579\n"
     ]
    }
   ],
   "source": [
    "# To make it even simpler, I am just adding the variance of the function above\n",
    "def standart_deviation(variance):\n",
    "    return np.sqrt(variance)\n",
    "\n",
    "standart_dev = standart_deviation(var)\n",
    "print(standart_dev)"
   ]
  },
  {
   "cell_type": "markdown",
   "metadata": {
    "deletable": true,
    "editable": true
   },
   "source": [
    "<p>Or to make it easy again</p>"
   ]
  },
  {
   "cell_type": "code",
   "execution_count": 6,
   "metadata": {
    "collapsed": false,
    "deletable": true,
    "editable": true
   },
   "outputs": [
    {
     "name": "stdout",
     "output_type": "stream",
     "text": [
      "2.94853820579\n"
     ]
    }
   ],
   "source": [
    "print(np.std(dataset))"
   ]
  },
  {
   "cell_type": "markdown",
   "metadata": {
    "deletable": true,
    "editable": true
   },
   "source": [
    "<h3>As you are probably noticing <b>numpy</b> is probably the best friend of every data scientist who uses Python.<br>\n",
    "This is due to it's inbuilt tools and its back-end working on C and Fortran combining the power of your cores to create good efficiency with parallel processing.</h3>"
   ]
  },
  {
   "cell_type": "markdown",
   "metadata": {
    "deletable": true,
    "editable": true
   },
   "source": [
    "<h1>Resumed talk about all the subjects previously spoken </h1>\n",
    "<h3>Tip: Whenever watching tutorial videos, use <a href=\"https://chrome.google.com/webstore/detail/youtube-playback-speed-co/hdannnflhlmdablckfkjpleikpphncik\">Playback Speed Control</a> to make your time more efficient</h3>"
   ]
  },
  {
   "cell_type": "code",
   "execution_count": 7,
   "metadata": {
    "collapsed": true,
    "deletable": true,
    "editable": true
   },
   "outputs": [],
   "source": [
    "from IPython.display import IFrame"
   ]
  },
  {
   "cell_type": "code",
   "execution_count": 28,
   "metadata": {
    "collapsed": false,
    "deletable": true,
    "editable": true
   },
   "outputs": [
    {
     "data": {
      "text/html": [
       "\n",
       "        <iframe\n",
       "            width=\"700\"\n",
       "            height=\"450\"\n",
       "            src=\"https://www.youtube.com/embed/E4HAYd0QnRc\"\n",
       "            frameborder=\"0\"\n",
       "            allowfullscreen\n",
       "        ></iframe>\n",
       "        "
      ],
      "text/plain": [
       "<IPython.lib.display.IFrame at 0x1c727864860>"
      ]
     },
     "execution_count": 28,
     "metadata": {},
     "output_type": "execute_result"
    }
   ],
   "source": [
    "IFrame('https://www.youtube.com/embed/E4HAYd0QnRc', width=700, height=450)"
   ]
  },
  {
   "cell_type": "markdown",
   "metadata": {
    "collapsed": true,
    "deletable": true,
    "editable": true
   },
   "source": [
    "<h1> Distributions </h1>"
   ]
  },
  {
   "cell_type": "markdown",
   "metadata": {},
   "source": [
    "<p>A distribution is another name for a set of numbers. The numbers can be based on data you gathered as a result of measuring people or things.  Distributions that have to do with probability.  A family of a particular type of probability distributions called the binomial distribution.</p>"
   ]
  },
  {
   "cell_type": "markdown",
   "metadata": {},
   "source": [
    "<h2>Binomial Distribution</h2>"
   ]
  },
  {
   "cell_type": "markdown",
   "metadata": {},
   "source": [
    "<p>Binomial distributions serve as a binary outcome like 'heads or tails'</p>"
   ]
  },
  {
   "cell_type": "code",
   "execution_count": 27,
   "metadata": {
    "collapsed": false
   },
   "outputs": [
    {
     "data": {
      "text/html": [
       "\n",
       "        <iframe\n",
       "            width=\"700\"\n",
       "            height=\"450\"\n",
       "            src=\"https://www.youtube.com/embed/WWv0RUxDfbs\"\n",
       "            frameborder=\"0\"\n",
       "            allowfullscreen\n",
       "        ></iframe>\n",
       "        "
      ],
      "text/plain": [
       "<IPython.lib.display.IFrame at 0x1c7278640f0>"
      ]
     },
     "execution_count": 27,
     "metadata": {},
     "output_type": "execute_result"
    }
   ],
   "source": [
    "IFrame('https://www.youtube.com/embed/WWv0RUxDfbs', width=700, height=450)"
   ]
  },
  {
   "cell_type": "code",
   "execution_count": 23,
   "metadata": {
    "collapsed": false
   },
   "outputs": [
    {
     "data": {
      "text/plain": [
       "(array([ 0.40015,  0.59985]),\n",
       " array([ 0.,  1.,  2.]),\n",
       " <a list of 2 Patch objects>)"
      ]
     },
     "execution_count": 23,
     "metadata": {},
     "output_type": "execute_result"
    },
    {
     "data": {
      "image/png": "[encoded data removed]",
      "text/plain": [
       "<matplotlib.figure.Figure at 0x1c727848e80>"
      ]
     },
     "metadata": {},
     "output_type": "display_data"
    }
   ],
   "source": [
    "plt.figure()\n",
    "elements = np.random.binomial(1, .6, 20000)/0.5\n",
    "plt.hist(elements, 2, normed=1)"
   ]
  },
  {
   "cell_type": "markdown",
   "metadata": {},
   "source": [
    "<h2>Multinomial Distribution</h2>"
   ]
  },
  {
   "cell_type": "markdown",
   "metadata": {},
   "source": [
    "<p>This serves as a larger model, used when the number of possible outcomes is greater than 2</p>"
   ]
  },
  {
   "cell_type": "code",
   "execution_count": 56,
   "metadata": {
    "collapsed": false
   },
   "outputs": [
    {
     "name": "stdout",
     "output_type": "stream",
     "text": [
      "[[ 7 23 23 47]]\n"
     ]
    },
    {
     "name": "stderr",
     "output_type": "stream",
     "text": [
      "C:\\Users\\eu\\AppData\\Local\\Enthought\\Canopy\\edm\\envs\\User\\lib\\site-packages\\matplotlib\\axes\\_axes.py:6087: UserWarning: 2D hist input should be nsamples x nvariables;\n",
      " this looks transposed (shape is 1 x 4)\n",
      "  '(shape is %d x %d)' % inp.shape[::-1])\n"
     ]
    },
    {
     "data": {
      "image/png": "[encoded data removed]",
      "text/plain": [
       "<matplotlib.figure.Figure at 0x1c727eef9b0>"
      ]
     },
     "metadata": {},
     "output_type": "display_data"
    }
   ],
   "source": [
    "plt.figure()\n",
    "elements = np.random.multinomial(100, [0.1,0.3,0.2,0.4], 1 )\n",
    "print(elements)\n",
    "plt.hist(elements, 50, normed=5)\n",
    "plt.show()"
   ]
  },
  {
   "cell_type": "code",
   "execution_count": null,
   "metadata": {
    "collapsed": true
   },
   "outputs": [],
   "source": []
  }
 ],
 "metadata": {
  "kernelspec": {
   "display_name": "Python 3",
   "language": "python",
   "name": "python3"
  },
  "language_info": {
   "codemirror_mode": {
    "name": "ipython",
    "version": 3
   },
   "file_extension": ".py",
   "mimetype": "text/x-python",
   "name": "python",
   "nbconvert_exporter": "python",
   "pygments_lexer": "ipython3",
   "version": "3.5.2"
  }
 },
 "nbformat": 4,
 "nbformat_minor": 2
}
